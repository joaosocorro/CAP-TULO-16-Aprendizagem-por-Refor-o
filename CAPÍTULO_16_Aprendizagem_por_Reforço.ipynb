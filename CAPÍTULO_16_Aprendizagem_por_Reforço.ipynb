{
  "nbformat": 4,
  "nbformat_minor": 0,
  "metadata": {
    "colab": {
      "provenance": [],
      "authorship_tag": "ABX9TyPzazERI0fs3AlTyyMIyEm5",
      "include_colab_link": true
    },
    "kernelspec": {
      "name": "python3",
      "display_name": "Python 3"
    },
    "language_info": {
      "name": "python"
    }
  },
  "cells": [
    {
      "cell_type": "markdown",
      "metadata": {
        "id": "view-in-github",
        "colab_type": "text"
      },
      "source": [
        "<a href=\"https://colab.research.google.com/github/joaosocorro/CAP-TULO-16-Aprendizagem-por-Refor-o/blob/main/CAP%C3%8DTULO_16_Aprendizagem_por_Refor%C3%A7o.ipynb\" target=\"_parent\"><img src=\"https://colab.research.google.com/assets/colab-badge.svg\" alt=\"Open In Colab\"/></a>"
      ]
    },
    {
      "cell_type": "code",
      "source": [
        "from google.colab import drive\n",
        "drive.mount('/content/drive')\n"
      ],
      "metadata": {
        "id": "gCFyF5KKZpEA"
      },
      "execution_count": 6,
      "outputs": []
    },
    {
      "cell_type": "code",
      "source": [
        "import pandas as pd\n",
        "import numpy as np"
      ],
      "metadata": {
        "id": "u8KTtEASZfv4"
      },
      "execution_count": 7,
      "outputs": []
    },
    {
      "cell_type": "code",
      "source": [
        "import tensorflow as tf\n",
        "print(tf.__version__)\n"
      ],
      "metadata": {
        "colab": {
          "base_uri": "https://localhost:8080/"
        },
        "id": "eXIn3vZ1ZqIS",
        "outputId": "ae93b6bc-33b4-475b-eb1c-2d561c4d1f7c"
      },
      "execution_count": 8,
      "outputs": [
        {
          "output_type": "stream",
          "name": "stdout",
          "text": [
            "Mounted at /content/drive\n"
          ]
        }
      ]
    },
    {
      "cell_type": "code",
      "source": [
        "!pip install matplotlib-venn"
      ],
      "metadata": {
        "colab": {
          "base_uri": "https://localhost:8080/"
        },
        "id": "v3MPnhRQknXZ",
        "outputId": "31b1cc19-1bdc-4f94-c044-0a4826479139"
      },
      "execution_count": 9,
      "outputs": [
        {
          "output_type": "stream",
          "name": "stdout",
          "text": [
            "Requirement already satisfied: matplotlib-venn in /usr/local/lib/python3.10/dist-packages (0.11.9)\n",
            "Requirement already satisfied: matplotlib in /usr/local/lib/python3.10/dist-packages (from matplotlib-venn) (3.7.1)\n",
            "Requirement already satisfied: numpy in /usr/local/lib/python3.10/dist-packages (from matplotlib-venn) (1.23.5)\n",
            "Requirement already satisfied: scipy in /usr/local/lib/python3.10/dist-packages (from matplotlib-venn) (1.11.4)\n",
            "Requirement already satisfied: contourpy>=1.0.1 in /usr/local/lib/python3.10/dist-packages (from matplotlib->matplotlib-venn) (1.2.0)\n",
            "Requirement already satisfied: cycler>=0.10 in /usr/local/lib/python3.10/dist-packages (from matplotlib->matplotlib-venn) (0.12.1)\n",
            "Requirement already satisfied: fonttools>=4.22.0 in /usr/local/lib/python3.10/dist-packages (from matplotlib->matplotlib-venn) (4.47.0)\n",
            "Requirement already satisfied: kiwisolver>=1.0.1 in /usr/local/lib/python3.10/dist-packages (from matplotlib->matplotlib-venn) (1.4.5)\n",
            "Requirement already satisfied: packaging>=20.0 in /usr/local/lib/python3.10/dist-packages (from matplotlib->matplotlib-venn) (23.2)\n",
            "Requirement already satisfied: pillow>=6.2.0 in /usr/local/lib/python3.10/dist-packages (from matplotlib->matplotlib-venn) (9.4.0)\n",
            "Requirement already satisfied: pyparsing>=2.3.1 in /usr/local/lib/python3.10/dist-packages (from matplotlib->matplotlib-venn) (3.1.1)\n",
            "Requirement already satisfied: python-dateutil>=2.7 in /usr/local/lib/python3.10/dist-packages (from matplotlib->matplotlib-venn) (2.8.2)\n",
            "Requirement already satisfied: six>=1.5 in /usr/local/lib/python3.10/dist-packages (from python-dateutil>=2.7->matplotlib->matplotlib-venn) (1.16.0)\n"
          ]
        }
      ]
    },
    {
      "cell_type": "code",
      "source": [
        "!pip install tf_slim\n",
        "import tf_slim as slim"
      ],
      "metadata": {
        "colab": {
          "base_uri": "https://localhost:8080/"
        },
        "id": "fkmMXqfxmO3J",
        "outputId": "33ad5fb4-cb6c-4aba-a0b8-c9e234cebf29"
      },
      "execution_count": 10,
      "outputs": [
        {
          "output_type": "stream",
          "name": "stdout",
          "text": [
            "Requirement already satisfied: tf_slim in /usr/local/lib/python3.10/dist-packages (1.1.0)\n",
            "Requirement already satisfied: absl-py>=0.2.2 in /usr/local/lib/python3.10/dist-packages (from tf_slim) (1.4.0)\n"
          ]
        }
      ]
    },
    {
      "cell_type": "code",
      "source": [
        "!apt-get -qq install -y libfluidsynth1"
      ],
      "metadata": {
        "colab": {
          "base_uri": "https://localhost:8080/"
        },
        "id": "Afjm0RV0kuag",
        "outputId": "53d7c5da-4217-4aad-cbc5-2bb802db643d"
      },
      "execution_count": 11,
      "outputs": [
        {
          "output_type": "stream",
          "name": "stdout",
          "text": [
            "E: Package 'libfluidsynth1' has no installation candidate\n"
          ]
        }
      ]
    },
    {
      "cell_type": "code",
      "source": [
        "!apt-get -qq install -y graphviz && pip install pydot\n",
        "import pydot"
      ],
      "metadata": {
        "colab": {
          "base_uri": "https://localhost:8080/"
        },
        "id": "In5Vxb-vkQJn",
        "outputId": "1cf0323e-4d98-4caf-bb73-64fb5098cabf"
      },
      "execution_count": 12,
      "outputs": [
        {
          "output_type": "stream",
          "name": "stdout",
          "text": [
            "Requirement already satisfied: pydot in /usr/local/lib/python3.10/dist-packages (1.4.2)\n",
            "Requirement already satisfied: pyparsing>=2.1.4 in /usr/local/lib/python3.10/dist-packages (from pydot) (3.1.1)\n"
          ]
        }
      ]
    },
    {
      "cell_type": "code",
      "source": [
        "!apt-get -qq install -y libarchive-dev && pip install -U libarchive\n",
        "import libarchive"
      ],
      "metadata": {
        "colab": {
          "base_uri": "https://localhost:8080/",
          "height": 748
        },
        "id": "rssBI4dnkJxb",
        "outputId": "cd155257-0e9c-4bb2-fcef-84107c3bfcdc"
      },
      "execution_count": 13,
      "outputs": [
        {
          "output_type": "stream",
          "name": "stdout",
          "text": [
            "Selecting previously unselected package libarchive-dev:amd64.\n",
            "(Reading database ... 121654 files and directories currently installed.)\n",
            "Preparing to unpack .../libarchive-dev_3.6.0-1ubuntu1_amd64.deb ...\n",
            "Unpacking libarchive-dev:amd64 (3.6.0-1ubuntu1) ...\n",
            "Setting up libarchive-dev:amd64 (3.6.0-1ubuntu1) ...\n",
            "Processing triggers for man-db (2.10.2-1) ...\n",
            "Collecting libarchive\n",
            "  Downloading libarchive-0.4.7.tar.gz (23 kB)\n",
            "  Preparing metadata (setup.py) ... \u001b[?25l\u001b[?25hdone\n",
            "Collecting nose (from libarchive)\n",
            "  Downloading nose-1.3.7-py3-none-any.whl (154 kB)\n",
            "\u001b[2K     \u001b[90m━━━━━━━━━━━━━━━━━━━━━━━━━━━━━━━━━━━━━━━━\u001b[0m \u001b[32m154.7/154.7 kB\u001b[0m \u001b[31m5.6 MB/s\u001b[0m eta \u001b[36m0:00:00\u001b[0m\n",
            "\u001b[?25hBuilding wheels for collected packages: libarchive\n",
            "  \u001b[1;31merror\u001b[0m: \u001b[1msubprocess-exited-with-error\u001b[0m\n",
            "  \n",
            "  \u001b[31m×\u001b[0m \u001b[32mpython setup.py bdist_wheel\u001b[0m did not run successfully.\n",
            "  \u001b[31m│\u001b[0m exit code: \u001b[1;36m1\u001b[0m\n",
            "  \u001b[31m╰─>\u001b[0m See above for output.\n",
            "  \n",
            "  \u001b[1;35mnote\u001b[0m: This error originates from a subprocess, and is likely not a problem with pip.\n",
            "  Building wheel for libarchive (setup.py) ... \u001b[?25lerror\n",
            "\u001b[31m  ERROR: Failed building wheel for libarchive\u001b[0m\u001b[31m\n",
            "\u001b[0m\u001b[?25h  Running setup.py clean for libarchive\n",
            "Failed to build libarchive\n",
            "\u001b[31mERROR: Could not build wheels for libarchive, which is required to install pyproject.toml-based projects\u001b[0m\u001b[31m\n",
            "\u001b[0m"
          ]
        },
        {
          "output_type": "error",
          "ename": "ModuleNotFoundError",
          "evalue": "No module named 'libarchive'",
          "traceback": [
            "\u001b[0;31m---------------------------------------------------------------------------\u001b[0m",
            "\u001b[0;31mModuleNotFoundError\u001b[0m                       Traceback (most recent call last)",
            "\u001b[0;32m<ipython-input-13-00e696518bc8>\u001b[0m in \u001b[0;36m<cell line: 2>\u001b[0;34m()\u001b[0m\n\u001b[1;32m      1\u001b[0m \u001b[0mget_ipython\u001b[0m\u001b[0;34m(\u001b[0m\u001b[0;34m)\u001b[0m\u001b[0;34m.\u001b[0m\u001b[0msystem\u001b[0m\u001b[0;34m(\u001b[0m\u001b[0;34m'apt-get -qq install -y libarchive-dev && pip install -U libarchive'\u001b[0m\u001b[0;34m)\u001b[0m\u001b[0;34m\u001b[0m\u001b[0;34m\u001b[0m\u001b[0m\n\u001b[0;32m----> 2\u001b[0;31m \u001b[0;32mimport\u001b[0m \u001b[0mlibarchive\u001b[0m\u001b[0;34m\u001b[0m\u001b[0;34m\u001b[0m\u001b[0m\n\u001b[0m",
            "\u001b[0;31mModuleNotFoundError\u001b[0m: No module named 'libarchive'",
            "",
            "\u001b[0;31m---------------------------------------------------------------------------\u001b[0;32m\nNOTE: If your import is failing due to a missing package, you can\nmanually install dependencies using either !pip or !apt.\n\nTo install libarchive, click the button below.\n\u001b[0;31m---------------------------------------------------------------------------\u001b[0m\n"
          ],
          "errorDetails": {
            "actions": [
              {
                "action": "open_snippet",
                "actionText": "Install libarchive",
                "snippetFilter": "import libarchive"
              }
            ]
          }
        }
      ]
    },
    {
      "cell_type": "code",
      "source": [
        "!pip install cartopy\n",
        "import cartopy"
      ],
      "metadata": {
        "colab": {
          "base_uri": "https://localhost:8080/"
        },
        "id": "CE259fXokd7h",
        "outputId": "3645ee33-a354-42e5-992b-6b24b36a95e5"
      },
      "execution_count": 14,
      "outputs": [
        {
          "output_type": "stream",
          "name": "stdout",
          "text": [
            "Collecting cartopy\n",
            "  Downloading Cartopy-0.22.0-cp310-cp310-manylinux_2_17_x86_64.manylinux2014_x86_64.whl (11.8 MB)\n",
            "\u001b[2K     \u001b[90m━━━━━━━━━━━━━━━━━━━━━━━━━━━━━━━━━━━━━━━━\u001b[0m \u001b[32m11.8/11.8 MB\u001b[0m \u001b[31m30.8 MB/s\u001b[0m eta \u001b[36m0:00:00\u001b[0m\n",
            "\u001b[?25hRequirement already satisfied: numpy>=1.21 in /usr/local/lib/python3.10/dist-packages (from cartopy) (1.23.5)\n",
            "Requirement already satisfied: matplotlib>=3.4 in /usr/local/lib/python3.10/dist-packages (from cartopy) (3.7.1)\n",
            "Requirement already satisfied: shapely>=1.7 in /usr/local/lib/python3.10/dist-packages (from cartopy) (2.0.2)\n",
            "Requirement already satisfied: packaging>=20 in /usr/local/lib/python3.10/dist-packages (from cartopy) (23.2)\n",
            "Requirement already satisfied: pyshp>=2.1 in /usr/local/lib/python3.10/dist-packages (from cartopy) (2.3.1)\n",
            "Requirement already satisfied: pyproj>=3.1.0 in /usr/local/lib/python3.10/dist-packages (from cartopy) (3.6.1)\n",
            "Requirement already satisfied: contourpy>=1.0.1 in /usr/local/lib/python3.10/dist-packages (from matplotlib>=3.4->cartopy) (1.2.0)\n",
            "Requirement already satisfied: cycler>=0.10 in /usr/local/lib/python3.10/dist-packages (from matplotlib>=3.4->cartopy) (0.12.1)\n",
            "Requirement already satisfied: fonttools>=4.22.0 in /usr/local/lib/python3.10/dist-packages (from matplotlib>=3.4->cartopy) (4.47.0)\n",
            "Requirement already satisfied: kiwisolver>=1.0.1 in /usr/local/lib/python3.10/dist-packages (from matplotlib>=3.4->cartopy) (1.4.5)\n",
            "Requirement already satisfied: pillow>=6.2.0 in /usr/local/lib/python3.10/dist-packages (from matplotlib>=3.4->cartopy) (9.4.0)\n",
            "Requirement already satisfied: pyparsing>=2.3.1 in /usr/local/lib/python3.10/dist-packages (from matplotlib>=3.4->cartopy) (3.1.1)\n",
            "Requirement already satisfied: python-dateutil>=2.7 in /usr/local/lib/python3.10/dist-packages (from matplotlib>=3.4->cartopy) (2.8.2)\n",
            "Requirement already satisfied: certifi in /usr/local/lib/python3.10/dist-packages (from pyproj>=3.1.0->cartopy) (2023.11.17)\n",
            "Requirement already satisfied: six>=1.5 in /usr/local/lib/python3.10/dist-packages (from python-dateutil>=2.7->matplotlib>=3.4->cartopy) (1.16.0)\n",
            "Installing collected packages: cartopy\n",
            "Successfully installed cartopy-0.22.0\n"
          ]
        }
      ]
    },
    {
      "cell_type": "code",
      "source": [
        "\n",
        "#dados em CSV\n",
        "\n",
        "dados=pd.read_csv('/content/drive/MyDrive/X.csv',sep=',')"
      ],
      "metadata": {
        "colab": {
          "base_uri": "https://localhost:8080/",
          "height": 355
        },
        "id": "KEQFXK0hZ5_C",
        "outputId": "21104bc5-c91f-4c2e-cd9a-2920baaaec4d"
      },
      "execution_count": 15,
      "outputs": [
        {
          "output_type": "error",
          "ename": "FileNotFoundError",
          "evalue": "[Errno 2] No such file or directory: '/content/drive/MyDrive/X.csv'",
          "traceback": [
            "\u001b[0;31m---------------------------------------------------------------------------\u001b[0m",
            "\u001b[0;31mFileNotFoundError\u001b[0m                         Traceback (most recent call last)",
            "\u001b[0;32m<ipython-input-15-0efa748cc863>\u001b[0m in \u001b[0;36m<cell line: 3>\u001b[0;34m()\u001b[0m\n\u001b[1;32m      1\u001b[0m \u001b[0;31m#dados em CSV\u001b[0m\u001b[0;34m\u001b[0m\u001b[0;34m\u001b[0m\u001b[0m\n\u001b[1;32m      2\u001b[0m \u001b[0;34m\u001b[0m\u001b[0m\n\u001b[0;32m----> 3\u001b[0;31m \u001b[0mdados\u001b[0m\u001b[0;34m=\u001b[0m\u001b[0mpd\u001b[0m\u001b[0;34m.\u001b[0m\u001b[0mread_csv\u001b[0m\u001b[0;34m(\u001b[0m\u001b[0;34m'/content/drive/MyDrive/X.csv'\u001b[0m\u001b[0;34m,\u001b[0m\u001b[0msep\u001b[0m\u001b[0;34m=\u001b[0m\u001b[0;34m','\u001b[0m\u001b[0;34m)\u001b[0m\u001b[0;34m\u001b[0m\u001b[0;34m\u001b[0m\u001b[0m\n\u001b[0m",
            "\u001b[0;32m/usr/local/lib/python3.10/dist-packages/pandas/util/_decorators.py\u001b[0m in \u001b[0;36mwrapper\u001b[0;34m(*args, **kwargs)\u001b[0m\n\u001b[1;32m    209\u001b[0m                 \u001b[0;32melse\u001b[0m\u001b[0;34m:\u001b[0m\u001b[0;34m\u001b[0m\u001b[0;34m\u001b[0m\u001b[0m\n\u001b[1;32m    210\u001b[0m                     \u001b[0mkwargs\u001b[0m\u001b[0;34m[\u001b[0m\u001b[0mnew_arg_name\u001b[0m\u001b[0;34m]\u001b[0m \u001b[0;34m=\u001b[0m \u001b[0mnew_arg_value\u001b[0m\u001b[0;34m\u001b[0m\u001b[0;34m\u001b[0m\u001b[0m\n\u001b[0;32m--> 211\u001b[0;31m             \u001b[0;32mreturn\u001b[0m \u001b[0mfunc\u001b[0m\u001b[0;34m(\u001b[0m\u001b[0;34m*\u001b[0m\u001b[0margs\u001b[0m\u001b[0;34m,\u001b[0m \u001b[0;34m**\u001b[0m\u001b[0mkwargs\u001b[0m\u001b[0;34m)\u001b[0m\u001b[0;34m\u001b[0m\u001b[0;34m\u001b[0m\u001b[0m\n\u001b[0m\u001b[1;32m    212\u001b[0m \u001b[0;34m\u001b[0m\u001b[0m\n\u001b[1;32m    213\u001b[0m         \u001b[0;32mreturn\u001b[0m \u001b[0mcast\u001b[0m\u001b[0;34m(\u001b[0m\u001b[0mF\u001b[0m\u001b[0;34m,\u001b[0m \u001b[0mwrapper\u001b[0m\u001b[0;34m)\u001b[0m\u001b[0;34m\u001b[0m\u001b[0;34m\u001b[0m\u001b[0m\n",
            "\u001b[0;32m/usr/local/lib/python3.10/dist-packages/pandas/util/_decorators.py\u001b[0m in \u001b[0;36mwrapper\u001b[0;34m(*args, **kwargs)\u001b[0m\n\u001b[1;32m    329\u001b[0m                     \u001b[0mstacklevel\u001b[0m\u001b[0;34m=\u001b[0m\u001b[0mfind_stack_level\u001b[0m\u001b[0;34m(\u001b[0m\u001b[0;34m)\u001b[0m\u001b[0;34m,\u001b[0m\u001b[0;34m\u001b[0m\u001b[0;34m\u001b[0m\u001b[0m\n\u001b[1;32m    330\u001b[0m                 )\n\u001b[0;32m--> 331\u001b[0;31m             \u001b[0;32mreturn\u001b[0m \u001b[0mfunc\u001b[0m\u001b[0;34m(\u001b[0m\u001b[0;34m*\u001b[0m\u001b[0margs\u001b[0m\u001b[0;34m,\u001b[0m \u001b[0;34m**\u001b[0m\u001b[0mkwargs\u001b[0m\u001b[0;34m)\u001b[0m\u001b[0;34m\u001b[0m\u001b[0;34m\u001b[0m\u001b[0m\n\u001b[0m\u001b[1;32m    332\u001b[0m \u001b[0;34m\u001b[0m\u001b[0m\n\u001b[1;32m    333\u001b[0m         \u001b[0;31m# error: \"Callable[[VarArg(Any), KwArg(Any)], Any]\" has no\u001b[0m\u001b[0;34m\u001b[0m\u001b[0;34m\u001b[0m\u001b[0m\n",
            "\u001b[0;32m/usr/local/lib/python3.10/dist-packages/pandas/io/parsers/readers.py\u001b[0m in \u001b[0;36mread_csv\u001b[0;34m(filepath_or_buffer, sep, delimiter, header, names, index_col, usecols, squeeze, prefix, mangle_dupe_cols, dtype, engine, converters, true_values, false_values, skipinitialspace, skiprows, skipfooter, nrows, na_values, keep_default_na, na_filter, verbose, skip_blank_lines, parse_dates, infer_datetime_format, keep_date_col, date_parser, dayfirst, cache_dates, iterator, chunksize, compression, thousands, decimal, lineterminator, quotechar, quoting, doublequote, escapechar, comment, encoding, encoding_errors, dialect, error_bad_lines, warn_bad_lines, on_bad_lines, delim_whitespace, low_memory, memory_map, float_precision, storage_options)\u001b[0m\n\u001b[1;32m    948\u001b[0m     \u001b[0mkwds\u001b[0m\u001b[0;34m.\u001b[0m\u001b[0mupdate\u001b[0m\u001b[0;34m(\u001b[0m\u001b[0mkwds_defaults\u001b[0m\u001b[0;34m)\u001b[0m\u001b[0;34m\u001b[0m\u001b[0;34m\u001b[0m\u001b[0m\n\u001b[1;32m    949\u001b[0m \u001b[0;34m\u001b[0m\u001b[0m\n\u001b[0;32m--> 950\u001b[0;31m     \u001b[0;32mreturn\u001b[0m \u001b[0m_read\u001b[0m\u001b[0;34m(\u001b[0m\u001b[0mfilepath_or_buffer\u001b[0m\u001b[0;34m,\u001b[0m \u001b[0mkwds\u001b[0m\u001b[0;34m)\u001b[0m\u001b[0;34m\u001b[0m\u001b[0;34m\u001b[0m\u001b[0m\n\u001b[0m\u001b[1;32m    951\u001b[0m \u001b[0;34m\u001b[0m\u001b[0m\n\u001b[1;32m    952\u001b[0m \u001b[0;34m\u001b[0m\u001b[0m\n",
            "\u001b[0;32m/usr/local/lib/python3.10/dist-packages/pandas/io/parsers/readers.py\u001b[0m in \u001b[0;36m_read\u001b[0;34m(filepath_or_buffer, kwds)\u001b[0m\n\u001b[1;32m    603\u001b[0m \u001b[0;34m\u001b[0m\u001b[0m\n\u001b[1;32m    604\u001b[0m     \u001b[0;31m# Create the parser.\u001b[0m\u001b[0;34m\u001b[0m\u001b[0;34m\u001b[0m\u001b[0m\n\u001b[0;32m--> 605\u001b[0;31m     \u001b[0mparser\u001b[0m \u001b[0;34m=\u001b[0m \u001b[0mTextFileReader\u001b[0m\u001b[0;34m(\u001b[0m\u001b[0mfilepath_or_buffer\u001b[0m\u001b[0;34m,\u001b[0m \u001b[0;34m**\u001b[0m\u001b[0mkwds\u001b[0m\u001b[0;34m)\u001b[0m\u001b[0;34m\u001b[0m\u001b[0;34m\u001b[0m\u001b[0m\n\u001b[0m\u001b[1;32m    606\u001b[0m \u001b[0;34m\u001b[0m\u001b[0m\n\u001b[1;32m    607\u001b[0m     \u001b[0;32mif\u001b[0m \u001b[0mchunksize\u001b[0m \u001b[0;32mor\u001b[0m \u001b[0miterator\u001b[0m\u001b[0;34m:\u001b[0m\u001b[0;34m\u001b[0m\u001b[0;34m\u001b[0m\u001b[0m\n",
            "\u001b[0;32m/usr/local/lib/python3.10/dist-packages/pandas/io/parsers/readers.py\u001b[0m in \u001b[0;36m__init__\u001b[0;34m(self, f, engine, **kwds)\u001b[0m\n\u001b[1;32m   1440\u001b[0m \u001b[0;34m\u001b[0m\u001b[0m\n\u001b[1;32m   1441\u001b[0m         \u001b[0mself\u001b[0m\u001b[0;34m.\u001b[0m\u001b[0mhandles\u001b[0m\u001b[0;34m:\u001b[0m \u001b[0mIOHandles\u001b[0m \u001b[0;34m|\u001b[0m \u001b[0;32mNone\u001b[0m \u001b[0;34m=\u001b[0m \u001b[0;32mNone\u001b[0m\u001b[0;34m\u001b[0m\u001b[0;34m\u001b[0m\u001b[0m\n\u001b[0;32m-> 1442\u001b[0;31m         \u001b[0mself\u001b[0m\u001b[0;34m.\u001b[0m\u001b[0m_engine\u001b[0m \u001b[0;34m=\u001b[0m \u001b[0mself\u001b[0m\u001b[0;34m.\u001b[0m\u001b[0m_make_engine\u001b[0m\u001b[0;34m(\u001b[0m\u001b[0mf\u001b[0m\u001b[0;34m,\u001b[0m \u001b[0mself\u001b[0m\u001b[0;34m.\u001b[0m\u001b[0mengine\u001b[0m\u001b[0;34m)\u001b[0m\u001b[0;34m\u001b[0m\u001b[0;34m\u001b[0m\u001b[0m\n\u001b[0m\u001b[1;32m   1443\u001b[0m \u001b[0;34m\u001b[0m\u001b[0m\n\u001b[1;32m   1444\u001b[0m     \u001b[0;32mdef\u001b[0m \u001b[0mclose\u001b[0m\u001b[0;34m(\u001b[0m\u001b[0mself\u001b[0m\u001b[0;34m)\u001b[0m \u001b[0;34m->\u001b[0m \u001b[0;32mNone\u001b[0m\u001b[0;34m:\u001b[0m\u001b[0;34m\u001b[0m\u001b[0;34m\u001b[0m\u001b[0m\n",
            "\u001b[0;32m/usr/local/lib/python3.10/dist-packages/pandas/io/parsers/readers.py\u001b[0m in \u001b[0;36m_make_engine\u001b[0;34m(self, f, engine)\u001b[0m\n\u001b[1;32m   1733\u001b[0m                 \u001b[0;32mif\u001b[0m \u001b[0;34m\"b\"\u001b[0m \u001b[0;32mnot\u001b[0m \u001b[0;32min\u001b[0m \u001b[0mmode\u001b[0m\u001b[0;34m:\u001b[0m\u001b[0;34m\u001b[0m\u001b[0;34m\u001b[0m\u001b[0m\n\u001b[1;32m   1734\u001b[0m                     \u001b[0mmode\u001b[0m \u001b[0;34m+=\u001b[0m \u001b[0;34m\"b\"\u001b[0m\u001b[0;34m\u001b[0m\u001b[0;34m\u001b[0m\u001b[0m\n\u001b[0;32m-> 1735\u001b[0;31m             self.handles = get_handle(\n\u001b[0m\u001b[1;32m   1736\u001b[0m                 \u001b[0mf\u001b[0m\u001b[0;34m,\u001b[0m\u001b[0;34m\u001b[0m\u001b[0;34m\u001b[0m\u001b[0m\n\u001b[1;32m   1737\u001b[0m                 \u001b[0mmode\u001b[0m\u001b[0;34m,\u001b[0m\u001b[0;34m\u001b[0m\u001b[0;34m\u001b[0m\u001b[0m\n",
            "\u001b[0;32m/usr/local/lib/python3.10/dist-packages/pandas/io/common.py\u001b[0m in \u001b[0;36mget_handle\u001b[0;34m(path_or_buf, mode, encoding, compression, memory_map, is_text, errors, storage_options)\u001b[0m\n\u001b[1;32m    854\u001b[0m         \u001b[0;32mif\u001b[0m \u001b[0mioargs\u001b[0m\u001b[0;34m.\u001b[0m\u001b[0mencoding\u001b[0m \u001b[0;32mand\u001b[0m \u001b[0;34m\"b\"\u001b[0m \u001b[0;32mnot\u001b[0m \u001b[0;32min\u001b[0m \u001b[0mioargs\u001b[0m\u001b[0;34m.\u001b[0m\u001b[0mmode\u001b[0m\u001b[0;34m:\u001b[0m\u001b[0;34m\u001b[0m\u001b[0;34m\u001b[0m\u001b[0m\n\u001b[1;32m    855\u001b[0m             \u001b[0;31m# Encoding\u001b[0m\u001b[0;34m\u001b[0m\u001b[0;34m\u001b[0m\u001b[0m\n\u001b[0;32m--> 856\u001b[0;31m             handle = open(\n\u001b[0m\u001b[1;32m    857\u001b[0m                 \u001b[0mhandle\u001b[0m\u001b[0;34m,\u001b[0m\u001b[0;34m\u001b[0m\u001b[0;34m\u001b[0m\u001b[0m\n\u001b[1;32m    858\u001b[0m                 \u001b[0mioargs\u001b[0m\u001b[0;34m.\u001b[0m\u001b[0mmode\u001b[0m\u001b[0;34m,\u001b[0m\u001b[0;34m\u001b[0m\u001b[0;34m\u001b[0m\u001b[0m\n",
            "\u001b[0;31mFileNotFoundError\u001b[0m: [Errno 2] No such file or directory: '/content/drive/MyDrive/X.csv'"
          ]
        }
      ]
    },
    {
      "cell_type": "code",
      "source": [
        "\n",
        "#Dados em xlsx\n",
        "\n",
        "\n",
        "\n",
        "\n",
        "data = pd.read_excel('/content/drive/MyDrive/nome_do_seu_arquivo.xlsx')\n",
        "\n"
      ],
      "metadata": {
        "colab": {
          "base_uri": "https://localhost:8080/",
          "height": 373
        },
        "id": "rqpW12hpaMo_",
        "outputId": "64c6c628-af99-4213-f194-e7b6ad997399"
      },
      "execution_count": 16,
      "outputs": [
        {
          "output_type": "error",
          "ename": "FileNotFoundError",
          "evalue": "[Errno 2] No such file or directory: '/content/drive/MyDrive/nome_do_seu_arquivo.xlsx'",
          "traceback": [
            "\u001b[0;31m---------------------------------------------------------------------------\u001b[0m",
            "\u001b[0;31mFileNotFoundError\u001b[0m                         Traceback (most recent call last)",
            "\u001b[0;32m<ipython-input-16-e49fd5bbbb32>\u001b[0m in \u001b[0;36m<cell line: 6>\u001b[0;34m()\u001b[0m\n\u001b[1;32m      4\u001b[0m \u001b[0;34m\u001b[0m\u001b[0m\n\u001b[1;32m      5\u001b[0m \u001b[0;34m\u001b[0m\u001b[0m\n\u001b[0;32m----> 6\u001b[0;31m \u001b[0mdata\u001b[0m \u001b[0;34m=\u001b[0m \u001b[0mpd\u001b[0m\u001b[0;34m.\u001b[0m\u001b[0mread_excel\u001b[0m\u001b[0;34m(\u001b[0m\u001b[0;34m'/content/drive/MyDrive/nome_do_seu_arquivo.xlsx'\u001b[0m\u001b[0;34m)\u001b[0m\u001b[0;34m\u001b[0m\u001b[0;34m\u001b[0m\u001b[0m\n\u001b[0m\u001b[1;32m      7\u001b[0m \u001b[0;34m\u001b[0m\u001b[0m\n",
            "\u001b[0;32m/usr/local/lib/python3.10/dist-packages/pandas/util/_decorators.py\u001b[0m in \u001b[0;36mwrapper\u001b[0;34m(*args, **kwargs)\u001b[0m\n\u001b[1;32m    209\u001b[0m                 \u001b[0;32melse\u001b[0m\u001b[0;34m:\u001b[0m\u001b[0;34m\u001b[0m\u001b[0;34m\u001b[0m\u001b[0m\n\u001b[1;32m    210\u001b[0m                     \u001b[0mkwargs\u001b[0m\u001b[0;34m[\u001b[0m\u001b[0mnew_arg_name\u001b[0m\u001b[0;34m]\u001b[0m \u001b[0;34m=\u001b[0m \u001b[0mnew_arg_value\u001b[0m\u001b[0;34m\u001b[0m\u001b[0;34m\u001b[0m\u001b[0m\n\u001b[0;32m--> 211\u001b[0;31m             \u001b[0;32mreturn\u001b[0m \u001b[0mfunc\u001b[0m\u001b[0;34m(\u001b[0m\u001b[0;34m*\u001b[0m\u001b[0margs\u001b[0m\u001b[0;34m,\u001b[0m \u001b[0;34m**\u001b[0m\u001b[0mkwargs\u001b[0m\u001b[0;34m)\u001b[0m\u001b[0;34m\u001b[0m\u001b[0;34m\u001b[0m\u001b[0m\n\u001b[0m\u001b[1;32m    212\u001b[0m \u001b[0;34m\u001b[0m\u001b[0m\n\u001b[1;32m    213\u001b[0m         \u001b[0;32mreturn\u001b[0m \u001b[0mcast\u001b[0m\u001b[0;34m(\u001b[0m\u001b[0mF\u001b[0m\u001b[0;34m,\u001b[0m \u001b[0mwrapper\u001b[0m\u001b[0;34m)\u001b[0m\u001b[0;34m\u001b[0m\u001b[0;34m\u001b[0m\u001b[0m\n",
            "\u001b[0;32m/usr/local/lib/python3.10/dist-packages/pandas/util/_decorators.py\u001b[0m in \u001b[0;36mwrapper\u001b[0;34m(*args, **kwargs)\u001b[0m\n\u001b[1;32m    329\u001b[0m                     \u001b[0mstacklevel\u001b[0m\u001b[0;34m=\u001b[0m\u001b[0mfind_stack_level\u001b[0m\u001b[0;34m(\u001b[0m\u001b[0;34m)\u001b[0m\u001b[0;34m,\u001b[0m\u001b[0;34m\u001b[0m\u001b[0;34m\u001b[0m\u001b[0m\n\u001b[1;32m    330\u001b[0m                 )\n\u001b[0;32m--> 331\u001b[0;31m             \u001b[0;32mreturn\u001b[0m \u001b[0mfunc\u001b[0m\u001b[0;34m(\u001b[0m\u001b[0;34m*\u001b[0m\u001b[0margs\u001b[0m\u001b[0;34m,\u001b[0m \u001b[0;34m**\u001b[0m\u001b[0mkwargs\u001b[0m\u001b[0;34m)\u001b[0m\u001b[0;34m\u001b[0m\u001b[0;34m\u001b[0m\u001b[0m\n\u001b[0m\u001b[1;32m    332\u001b[0m \u001b[0;34m\u001b[0m\u001b[0m\n\u001b[1;32m    333\u001b[0m         \u001b[0;31m# error: \"Callable[[VarArg(Any), KwArg(Any)], Any]\" has no\u001b[0m\u001b[0;34m\u001b[0m\u001b[0;34m\u001b[0m\u001b[0m\n",
            "\u001b[0;32m/usr/local/lib/python3.10/dist-packages/pandas/io/excel/_base.py\u001b[0m in \u001b[0;36mread_excel\u001b[0;34m(io, sheet_name, header, names, index_col, usecols, squeeze, dtype, engine, converters, true_values, false_values, skiprows, nrows, na_values, keep_default_na, na_filter, verbose, parse_dates, date_parser, thousands, decimal, comment, skipfooter, convert_float, mangle_dupe_cols, storage_options)\u001b[0m\n\u001b[1;32m    480\u001b[0m     \u001b[0;32mif\u001b[0m \u001b[0;32mnot\u001b[0m \u001b[0misinstance\u001b[0m\u001b[0;34m(\u001b[0m\u001b[0mio\u001b[0m\u001b[0;34m,\u001b[0m \u001b[0mExcelFile\u001b[0m\u001b[0;34m)\u001b[0m\u001b[0;34m:\u001b[0m\u001b[0;34m\u001b[0m\u001b[0;34m\u001b[0m\u001b[0m\n\u001b[1;32m    481\u001b[0m         \u001b[0mshould_close\u001b[0m \u001b[0;34m=\u001b[0m \u001b[0;32mTrue\u001b[0m\u001b[0;34m\u001b[0m\u001b[0;34m\u001b[0m\u001b[0m\n\u001b[0;32m--> 482\u001b[0;31m         \u001b[0mio\u001b[0m \u001b[0;34m=\u001b[0m \u001b[0mExcelFile\u001b[0m\u001b[0;34m(\u001b[0m\u001b[0mio\u001b[0m\u001b[0;34m,\u001b[0m \u001b[0mstorage_options\u001b[0m\u001b[0;34m=\u001b[0m\u001b[0mstorage_options\u001b[0m\u001b[0;34m,\u001b[0m \u001b[0mengine\u001b[0m\u001b[0;34m=\u001b[0m\u001b[0mengine\u001b[0m\u001b[0;34m)\u001b[0m\u001b[0;34m\u001b[0m\u001b[0;34m\u001b[0m\u001b[0m\n\u001b[0m\u001b[1;32m    483\u001b[0m     \u001b[0;32melif\u001b[0m \u001b[0mengine\u001b[0m \u001b[0;32mand\u001b[0m \u001b[0mengine\u001b[0m \u001b[0;34m!=\u001b[0m \u001b[0mio\u001b[0m\u001b[0;34m.\u001b[0m\u001b[0mengine\u001b[0m\u001b[0;34m:\u001b[0m\u001b[0;34m\u001b[0m\u001b[0;34m\u001b[0m\u001b[0m\n\u001b[1;32m    484\u001b[0m         raise ValueError(\n",
            "\u001b[0;32m/usr/local/lib/python3.10/dist-packages/pandas/io/excel/_base.py\u001b[0m in \u001b[0;36m__init__\u001b[0;34m(self, path_or_buffer, engine, storage_options)\u001b[0m\n\u001b[1;32m   1650\u001b[0m                 \u001b[0mext\u001b[0m \u001b[0;34m=\u001b[0m \u001b[0;34m\"xls\"\u001b[0m\u001b[0;34m\u001b[0m\u001b[0;34m\u001b[0m\u001b[0m\n\u001b[1;32m   1651\u001b[0m             \u001b[0;32melse\u001b[0m\u001b[0;34m:\u001b[0m\u001b[0;34m\u001b[0m\u001b[0;34m\u001b[0m\u001b[0m\n\u001b[0;32m-> 1652\u001b[0;31m                 ext = inspect_excel_format(\n\u001b[0m\u001b[1;32m   1653\u001b[0m                     \u001b[0mcontent_or_path\u001b[0m\u001b[0;34m=\u001b[0m\u001b[0mpath_or_buffer\u001b[0m\u001b[0;34m,\u001b[0m \u001b[0mstorage_options\u001b[0m\u001b[0;34m=\u001b[0m\u001b[0mstorage_options\u001b[0m\u001b[0;34m\u001b[0m\u001b[0;34m\u001b[0m\u001b[0m\n\u001b[1;32m   1654\u001b[0m                 )\n",
            "\u001b[0;32m/usr/local/lib/python3.10/dist-packages/pandas/io/excel/_base.py\u001b[0m in \u001b[0;36minspect_excel_format\u001b[0;34m(content_or_path, storage_options)\u001b[0m\n\u001b[1;32m   1523\u001b[0m         \u001b[0mcontent_or_path\u001b[0m \u001b[0;34m=\u001b[0m \u001b[0mBytesIO\u001b[0m\u001b[0;34m(\u001b[0m\u001b[0mcontent_or_path\u001b[0m\u001b[0;34m)\u001b[0m\u001b[0;34m\u001b[0m\u001b[0;34m\u001b[0m\u001b[0m\n\u001b[1;32m   1524\u001b[0m \u001b[0;34m\u001b[0m\u001b[0m\n\u001b[0;32m-> 1525\u001b[0;31m     with get_handle(\n\u001b[0m\u001b[1;32m   1526\u001b[0m         \u001b[0mcontent_or_path\u001b[0m\u001b[0;34m,\u001b[0m \u001b[0;34m\"rb\"\u001b[0m\u001b[0;34m,\u001b[0m \u001b[0mstorage_options\u001b[0m\u001b[0;34m=\u001b[0m\u001b[0mstorage_options\u001b[0m\u001b[0;34m,\u001b[0m \u001b[0mis_text\u001b[0m\u001b[0;34m=\u001b[0m\u001b[0;32mFalse\u001b[0m\u001b[0;34m\u001b[0m\u001b[0;34m\u001b[0m\u001b[0m\n\u001b[1;32m   1527\u001b[0m     ) as handle:\n",
            "\u001b[0;32m/usr/local/lib/python3.10/dist-packages/pandas/io/common.py\u001b[0m in \u001b[0;36mget_handle\u001b[0;34m(path_or_buf, mode, encoding, compression, memory_map, is_text, errors, storage_options)\u001b[0m\n\u001b[1;32m    863\u001b[0m         \u001b[0;32melse\u001b[0m\u001b[0;34m:\u001b[0m\u001b[0;34m\u001b[0m\u001b[0;34m\u001b[0m\u001b[0m\n\u001b[1;32m    864\u001b[0m             \u001b[0;31m# Binary mode\u001b[0m\u001b[0;34m\u001b[0m\u001b[0;34m\u001b[0m\u001b[0m\n\u001b[0;32m--> 865\u001b[0;31m             \u001b[0mhandle\u001b[0m \u001b[0;34m=\u001b[0m \u001b[0mopen\u001b[0m\u001b[0;34m(\u001b[0m\u001b[0mhandle\u001b[0m\u001b[0;34m,\u001b[0m \u001b[0mioargs\u001b[0m\u001b[0;34m.\u001b[0m\u001b[0mmode\u001b[0m\u001b[0;34m)\u001b[0m\u001b[0;34m\u001b[0m\u001b[0;34m\u001b[0m\u001b[0m\n\u001b[0m\u001b[1;32m    866\u001b[0m         \u001b[0mhandles\u001b[0m\u001b[0;34m.\u001b[0m\u001b[0mappend\u001b[0m\u001b[0;34m(\u001b[0m\u001b[0mhandle\u001b[0m\u001b[0;34m)\u001b[0m\u001b[0;34m\u001b[0m\u001b[0;34m\u001b[0m\u001b[0m\n\u001b[1;32m    867\u001b[0m \u001b[0;34m\u001b[0m\u001b[0m\n",
            "\u001b[0;31mFileNotFoundError\u001b[0m: [Errno 2] No such file or directory: '/content/drive/MyDrive/nome_do_seu_arquivo.xlsx'"
          ]
        }
      ]
    },
    {
      "cell_type": "markdown",
      "source": [
        "\n",
        "### **CAPÍTULO 16 Aprendizagem por Reforço**\n",
        "\n"
      ],
      "metadata": {
        "id": "sGlGwKsMzOJu"
      }
    },
    {
      "cell_type": "markdown",
      "source": [
        "![figura16-9.jpg](data:image/jpeg;base64,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)**Aprendendo a otimizar recompensas**"
      ],
      "metadata": {
        "id": "uqT_AtOczgD3"
      }
    },
    {
      "cell_type": "markdown",
      "source": [
        "**Pesquisa de políticas**"
      ],
      "metadata": {
        "id": "CfgW1ZT4z_4-"
      }
    },
    {
      "cell_type": "markdown",
      "source": [
        "**Introdução ao OpenAI Gym**"
      ],
      "metadata": {
        "id": "up9PQq9t0IkV"
      }
    },
    {
      "cell_type": "code",
      "execution_count": 17,
      "metadata": {
        "colab": {
          "base_uri": "https://localhost:8080/"
        },
        "id": "lcaQiJVGyFvJ",
        "outputId": "44fc5762-d3c8-4e54-e7a9-3d7a97ccf15f"
      },
      "outputs": [
        {
          "output_type": "stream",
          "name": "stdout",
          "text": [
            "Requirement already satisfied: gym in /usr/local/lib/python3.10/dist-packages (0.25.2)\n",
            "Collecting gym\n",
            "  Downloading gym-0.26.2.tar.gz (721 kB)\n",
            "\u001b[2K     \u001b[90m━━━━━━━━━━━━━━━━━━━━━━━━━━━━━━━━━━━━━━━━\u001b[0m \u001b[32m721.7/721.7 kB\u001b[0m \u001b[31m9.6 MB/s\u001b[0m eta \u001b[36m0:00:00\u001b[0m\n",
            "\u001b[?25h  Installing build dependencies ... \u001b[?25l\u001b[?25hdone\n",
            "  Getting requirements to build wheel ... \u001b[?25l\u001b[?25hdone\n",
            "  Preparing metadata (pyproject.toml) ... \u001b[?25l\u001b[?25hdone\n",
            "Requirement already satisfied: numpy>=1.18.0 in /usr/local/lib/python3.10/dist-packages (from gym) (1.23.5)\n",
            "Requirement already satisfied: cloudpickle>=1.2.0 in /usr/local/lib/python3.10/dist-packages (from gym) (2.2.1)\n",
            "Requirement already satisfied: gym-notices>=0.0.4 in /usr/local/lib/python3.10/dist-packages (from gym) (0.0.8)\n",
            "Building wheels for collected packages: gym\n",
            "  Building wheel for gym (pyproject.toml) ... \u001b[?25l\u001b[?25hdone\n",
            "  Created wheel for gym: filename=gym-0.26.2-py3-none-any.whl size=827618 sha256=ac468e3600a8088986091d71d0955ead43d1b281b8b1dc73691f6ac8cb562547\n",
            "  Stored in directory: /root/.cache/pip/wheels/b9/22/6d/3e7b32d98451b4cd9d12417052affbeeeea012955d437da1da\n",
            "Successfully built gym\n",
            "Installing collected packages: gym\n",
            "  Attempting uninstall: gym\n",
            "    Found existing installation: gym 0.25.2\n",
            "    Uninstalling gym-0.25.2:\n",
            "      Successfully uninstalled gym-0.25.2\n",
            "\u001b[31mERROR: pip's dependency resolver does not currently take into account all the packages that are installed. This behaviour is the source of the following dependency conflicts.\n",
            "dopamine-rl 4.0.6 requires gym<=0.25.2, but you have gym 0.26.2 which is incompatible.\u001b[0m\u001b[31m\n",
            "\u001b[0mSuccessfully installed gym-0.26.2\n"
          ]
        }
      ],
      "source": [
        " !pip3 install --upgrade gym"
      ]
    },
    {
      "cell_type": "code",
      "source": [
        "import gym"
      ],
      "metadata": {
        "id": "sRpa2BYC3xAA"
      },
      "execution_count": 18,
      "outputs": []
    },
    {
      "cell_type": "markdown",
      "source": [
        "Em seguida, abra um shell Python ou um notebook Jupyter e crie seu primeiro ambiente:"
      ],
      "metadata": {
        "id": "Zra53nJZ7si2"
      }
    },
    {
      "cell_type": "code",
      "source": [
        "env = gym.make(\"CartPole-v0\")"
      ],
      "metadata": {
        "id": "ffbkB7_J4A3n",
        "colab": {
          "base_uri": "https://localhost:8080/"
        },
        "outputId": "504e67fb-c7e2-4498-b2fd-66978cb74338"
      },
      "execution_count": 19,
      "outputs": [
        {
          "output_type": "stream",
          "name": "stderr",
          "text": [
            "/usr/local/lib/python3.10/dist-packages/gym/envs/registration.py:555: UserWarning: \u001b[33mWARN: The environment CartPole-v0 is out of date. You should consider upgrading to version `v1`.\u001b[0m\n",
            "  logger.warn(\n"
          ]
        }
      ]
    },
    {
      "cell_type": "code",
      "source": [
        "obs = env.reset()\n",
        "obs"
      ],
      "metadata": {
        "colab": {
          "base_uri": "https://localhost:8080/"
        },
        "id": "PKiTuyzq6fmr",
        "outputId": "0ec745b6-2da7-4edc-9d89-ded22abf1060"
      },
      "execution_count": 20,
      "outputs": [
        {
          "output_type": "execute_result",
          "data": {
            "text/plain": [
              "(array([-0.0119397 , -0.02872992,  0.03810852,  0.0031923 ], dtype=float32),\n",
              " {})"
            ]
          },
          "metadata": {},
          "execution_count": 20
        }
      ]
    },
    {
      "cell_type": "code",
      "source": [
        "env.render()"
      ],
      "metadata": {
        "id": "MXeu3QvB4M8X",
        "colab": {
          "base_uri": "https://localhost:8080/"
        },
        "outputId": "98261a5d-09e8-485b-d6f8-b9997eb7e8b8"
      },
      "execution_count": 21,
      "outputs": [
        {
          "output_type": "stream",
          "name": "stderr",
          "text": [
            "/usr/local/lib/python3.10/dist-packages/gym/envs/classic_control/cartpole.py:211: UserWarning: \u001b[33mWARN: You are calling render method without specifying any render mode. You can specify the render_mode at initialization, e.g. gym(\"CartPole-v0\", render_mode=\"rgb_array\")\u001b[0m\n",
            "  gym.logger.warn(\n"
          ]
        }
      ]
    },
    {
      "cell_type": "code",
      "source": [
        "img = env.render(mode=\"rgb_array\")\n",
        "img.shape # height, width, channels (3=RGB)"
      ],
      "metadata": {
        "colab": {
          "base_uri": "https://localhost:8080/",
          "height": 303
        },
        "id": "90sBsaYT5HWt",
        "outputId": "62e668da-1847-4ce9-d095-8f55057c7d8b"
      },
      "execution_count": 22,
      "outputs": [
        {
          "output_type": "error",
          "ename": "TypeError",
          "evalue": "CartPoleEnv.render() got an unexpected keyword argument 'mode'",
          "traceback": [
            "\u001b[0;31m---------------------------------------------------------------------------\u001b[0m",
            "\u001b[0;31mTypeError\u001b[0m                                 Traceback (most recent call last)",
            "\u001b[0;32m<ipython-input-22-0dc8b47fa5ec>\u001b[0m in \u001b[0;36m<cell line: 1>\u001b[0;34m()\u001b[0m\n\u001b[0;32m----> 1\u001b[0;31m \u001b[0mimg\u001b[0m \u001b[0;34m=\u001b[0m \u001b[0menv\u001b[0m\u001b[0;34m.\u001b[0m\u001b[0mrender\u001b[0m\u001b[0;34m(\u001b[0m\u001b[0mmode\u001b[0m\u001b[0;34m=\u001b[0m\u001b[0;34m\"rgb_array\"\u001b[0m\u001b[0;34m)\u001b[0m\u001b[0;34m\u001b[0m\u001b[0;34m\u001b[0m\u001b[0m\n\u001b[0m\u001b[1;32m      2\u001b[0m \u001b[0mimg\u001b[0m\u001b[0;34m.\u001b[0m\u001b[0mshape\u001b[0m \u001b[0;31m# height, width, channels (3=RGB)\u001b[0m\u001b[0;34m\u001b[0m\u001b[0;34m\u001b[0m\u001b[0m\n",
            "\u001b[0;32m/usr/local/lib/python3.10/dist-packages/gym/core.py\u001b[0m in \u001b[0;36mrender\u001b[0;34m(self, *args, **kwargs)\u001b[0m\n\u001b[1;32m    327\u001b[0m     ) -> Optional[Union[RenderFrame, List[RenderFrame]]]:\n\u001b[1;32m    328\u001b[0m         \u001b[0;34m\"\"\"Renders the environment.\"\"\"\u001b[0m\u001b[0;34m\u001b[0m\u001b[0;34m\u001b[0m\u001b[0m\n\u001b[0;32m--> 329\u001b[0;31m         \u001b[0;32mreturn\u001b[0m \u001b[0mself\u001b[0m\u001b[0;34m.\u001b[0m\u001b[0menv\u001b[0m\u001b[0;34m.\u001b[0m\u001b[0mrender\u001b[0m\u001b[0;34m(\u001b[0m\u001b[0;34m*\u001b[0m\u001b[0margs\u001b[0m\u001b[0;34m,\u001b[0m \u001b[0;34m**\u001b[0m\u001b[0mkwargs\u001b[0m\u001b[0;34m)\u001b[0m\u001b[0;34m\u001b[0m\u001b[0;34m\u001b[0m\u001b[0m\n\u001b[0m\u001b[1;32m    330\u001b[0m \u001b[0;34m\u001b[0m\u001b[0m\n\u001b[1;32m    331\u001b[0m     \u001b[0;32mdef\u001b[0m \u001b[0mclose\u001b[0m\u001b[0;34m(\u001b[0m\u001b[0mself\u001b[0m\u001b[0;34m)\u001b[0m\u001b[0;34m:\u001b[0m\u001b[0;34m\u001b[0m\u001b[0;34m\u001b[0m\u001b[0m\n",
            "\u001b[0;32m/usr/local/lib/python3.10/dist-packages/gym/wrappers/order_enforcing.py\u001b[0m in \u001b[0;36mrender\u001b[0;34m(self, *args, **kwargs)\u001b[0m\n\u001b[1;32m     49\u001b[0m                 \u001b[0;34m\"set `disable_render_order_enforcing=True` on the OrderEnforcer wrapper.\"\u001b[0m\u001b[0;34m\u001b[0m\u001b[0;34m\u001b[0m\u001b[0m\n\u001b[1;32m     50\u001b[0m             )\n\u001b[0;32m---> 51\u001b[0;31m         \u001b[0;32mreturn\u001b[0m \u001b[0mself\u001b[0m\u001b[0;34m.\u001b[0m\u001b[0menv\u001b[0m\u001b[0;34m.\u001b[0m\u001b[0mrender\u001b[0m\u001b[0;34m(\u001b[0m\u001b[0;34m*\u001b[0m\u001b[0margs\u001b[0m\u001b[0;34m,\u001b[0m \u001b[0;34m**\u001b[0m\u001b[0mkwargs\u001b[0m\u001b[0;34m)\u001b[0m\u001b[0;34m\u001b[0m\u001b[0;34m\u001b[0m\u001b[0m\n\u001b[0m\u001b[1;32m     52\u001b[0m \u001b[0;34m\u001b[0m\u001b[0m\n\u001b[1;32m     53\u001b[0m     \u001b[0;34m@\u001b[0m\u001b[0mproperty\u001b[0m\u001b[0;34m\u001b[0m\u001b[0;34m\u001b[0m\u001b[0m\n",
            "\u001b[0;32m/usr/local/lib/python3.10/dist-packages/gym/wrappers/env_checker.py\u001b[0m in \u001b[0;36mrender\u001b[0;34m(self, *args, **kwargs)\u001b[0m\n\u001b[1;32m     53\u001b[0m             \u001b[0;32mreturn\u001b[0m \u001b[0menv_render_passive_checker\u001b[0m\u001b[0;34m(\u001b[0m\u001b[0mself\u001b[0m\u001b[0;34m.\u001b[0m\u001b[0menv\u001b[0m\u001b[0;34m,\u001b[0m \u001b[0;34m*\u001b[0m\u001b[0margs\u001b[0m\u001b[0;34m,\u001b[0m \u001b[0;34m**\u001b[0m\u001b[0mkwargs\u001b[0m\u001b[0;34m)\u001b[0m\u001b[0;34m\u001b[0m\u001b[0;34m\u001b[0m\u001b[0m\n\u001b[1;32m     54\u001b[0m         \u001b[0;32melse\u001b[0m\u001b[0;34m:\u001b[0m\u001b[0;34m\u001b[0m\u001b[0;34m\u001b[0m\u001b[0m\n\u001b[0;32m---> 55\u001b[0;31m             \u001b[0;32mreturn\u001b[0m \u001b[0mself\u001b[0m\u001b[0;34m.\u001b[0m\u001b[0menv\u001b[0m\u001b[0;34m.\u001b[0m\u001b[0mrender\u001b[0m\u001b[0;34m(\u001b[0m\u001b[0;34m*\u001b[0m\u001b[0margs\u001b[0m\u001b[0;34m,\u001b[0m \u001b[0;34m**\u001b[0m\u001b[0mkwargs\u001b[0m\u001b[0;34m)\u001b[0m\u001b[0;34m\u001b[0m\u001b[0;34m\u001b[0m\u001b[0m\n\u001b[0m",
            "\u001b[0;31mTypeError\u001b[0m: CartPoleEnv.render() got an unexpected keyword argument 'mode'"
          ]
        }
      ]
    },
    {
      "cell_type": "markdown",
      "source": [
        "Vamos perguntar ao meio ambiente quais ações são possíveis:"
      ],
      "metadata": {
        "id": "zNmYVKCqicTJ"
      }
    },
    {
      "cell_type": "code",
      "source": [
        "nv.action_space"
      ],
      "metadata": {
        "id": "pp5Rl6Duikyy"
      },
      "execution_count": null,
      "outputs": []
    },
    {
      "cell_type": "code",
      "source": [
        "action = 1 # accelerate right\n",
        "obs, reward, done, info = env.step(action)\n",
        "obs\n",
        "\n",
        "reward\n",
        "1.0\n",
        "done\n",
        "\n",
        "info\n",
        "{}"
      ],
      "metadata": {
        "id": "aiB7HsBfjG8J"
      },
      "execution_count": null,
      "outputs": []
    },
    {
      "cell_type": "code",
      "source": [
        "obs"
      ],
      "metadata": {
        "id": "FJlFbJ_8ihz6"
      },
      "execution_count": null,
      "outputs": []
    },
    {
      "cell_type": "markdown",
      "source": [
        "Esta é a nova observação. O carrinho agora está se movendo para a direita (obs[1]>0). O poste ainda está inclinado para a direita (obs[2]>0), mas sua velocidade angular agora é negativa (obs[3]<0), então provavelmente será inclinado para a esquerda após a próxima etapa."
      ],
      "metadata": {
        "id": "gz3Aw7EIccjS"
      }
    },
    {
      "cell_type": "code",
      "source": [
        "reward"
      ],
      "metadata": {
        "id": "-W-GMRV-ceHw"
      },
      "execution_count": null,
      "outputs": []
    },
    {
      "cell_type": "code",
      "source": [
        "done"
      ],
      "metadata": {
        "id": "ED5Fb-UHc-PP"
      },
      "execution_count": null,
      "outputs": []
    },
    {
      "cell_type": "code",
      "source": [
        "info"
      ],
      "metadata": {
        "id": "UnW_aBeEdVVp"
      },
      "execution_count": null,
      "outputs": []
    },
    {
      "cell_type": "code",
      "source": [
        "def basic_policy(obs):\n",
        "  angle = obs[2]\n",
        "  return 0 if angle < 0 else 1"
      ],
      "metadata": {
        "id": "t4cKtCMNd09_"
      },
      "execution_count": null,
      "outputs": []
    },
    {
      "cell_type": "code",
      "source": [
        "totals = []\n",
        "for episode in range(500):\n",
        "    episode_rewards = 0\n",
        "    obs = env.reset()\n",
        "    for step in range(1000):\n",
        "      # 1000 steps max, we don't want to run forever\n",
        "      action = basic_policy(obs)\n",
        "      obs, reward, done, info = env.step(action)\n",
        "      episode_rewards += reward\n",
        "      if done:\n",
        "        break\n",
        "  totals.append(episode_rewards)"
      ],
      "metadata": {
        "id": "hFXqLWX-d5hZ"
      },
      "execution_count": null,
      "outputs": []
    },
    {
      "cell_type": "markdown",
      "source": [
        "Esperamos que este código seja autoexplicativo. Vejamos o resultado:"
      ],
      "metadata": {
        "id": "fYM9XZ_DfCV3"
      }
    },
    {
      "cell_type": "code",
      "source": [
        "import numpy as np"
      ],
      "metadata": {
        "id": "xRVwQR2AfDUw"
      },
      "execution_count": null,
      "outputs": []
    },
    {
      "cell_type": "code",
      "source": [
        "np.mean(totals), np.std(totals), np.min(totals), np.max(totals)"
      ],
      "metadata": {
        "id": "_W97RGnGffn-"
      },
      "execution_count": null,
      "outputs": []
    },
    {
      "cell_type": "code",
      "source": [
        "!pip install matplotlib-venn"
      ],
      "metadata": {
        "id": "cEJG65Yqjw-A"
      },
      "execution_count": null,
      "outputs": []
    },
    {
      "cell_type": "code",
      "source": [
        "!apt-get -qq install -y libfluidsynth1"
      ],
      "metadata": {
        "id": "MRRPQKO-j77g"
      },
      "execution_count": null,
      "outputs": []
    },
    {
      "cell_type": "markdown",
      "source": [
        "Aqui está o código para construir esta política de rede neural usando TensorFlow:"
      ],
      "metadata": {
        "id": "jjJKNC0VhyeK"
      }
    },
    {
      "cell_type": "code",
      "source": [],
      "metadata": {
        "id": "MeFegfkojxqw"
      },
      "execution_count": null,
      "outputs": []
    },
    {
      "cell_type": "code",
      "source": [
        "import tensorflow as tf\n",
        "from tensorflow.contrib.layers import fully_connected"
      ],
      "metadata": {
        "id": "jIhSPxjcfpFa"
      },
      "execution_count": null,
      "outputs": []
    },
    {
      "cell_type": "code",
      "source": [
        "# 1. Specify the neural network architecture\n",
        "n_inputs = 4 # == env.observation_space.shape[0]\n",
        "n_hidden = 4 # it's a simple task, we don't need more hidden neurons\n",
        "n_outputs = 1 # only outputs the probability of accelerating left\n",
        "initializer = tf.contrib.layers.variance_scaling_initializer()"
      ],
      "metadata": {
        "id": "1O7BPTWjlySA"
      },
      "execution_count": null,
      "outputs": []
    },
    {
      "cell_type": "code",
      "source": [
        "# 2. Build the neural network\n",
        "X = tf.placeholder(tf.float32, shape=[None, n_inputs])\n",
        "hidden = fully_connected(X, n_hidden, activation_fn=tf.nn.elu,\n",
        "                         weights_initializer=initializer)\n",
        "logits = fully_connected(hidden, n_outputs, activation_fn=None,\n",
        "                         weights_initializer=initializer)\n",
        "outputs = tf.nn.sigmoid(logits)"
      ],
      "metadata": {
        "id": "X3VsGei6m3eX"
      },
      "execution_count": null,
      "outputs": []
    },
    {
      "cell_type": "code",
      "source": [
        "# 3. Select a random action based on the estimated probabilities\n",
        "p_left_and_right = tf.concat(axis=1, values=[outputs, 1 - outputs])\n",
        "action = tf.multinomial(tf.log(p_left_and_right), num_samples=1)"
      ],
      "metadata": {
        "id": "P_nVEKg0nCFR"
      },
      "execution_count": null,
      "outputs": []
    },
    {
      "cell_type": "code",
      "source": [
        "init = tf.global_variables_initializer()"
      ],
      "metadata": {
        "id": "CKjzAu1JnE8p"
      },
      "execution_count": null,
      "outputs": []
    },
    {
      "cell_type": "markdown",
      "source": [
        "**Avaliando Ações: O Problema da Atribuição de Crédito**"
      ],
      "metadata": {
        "id": "FIMond291GGj"
      }
    },
    {
      "cell_type": "markdown",
      "source": [
        "**Gradientes de política**"
      ],
      "metadata": {
        "id": "m46ai0z908_1"
      }
    },
    {
      "cell_type": "markdown",
      "source": [
        "Vamos implementar este algoritmo usando TensorFlow. Treinaremos a política de rede neural que construímos anteriormente para que ela aprenda a equilibrar o poste no carrinho. Vamos começar concluindo a fase de construção que codificamos anteriormente para adicionar a probabilidade alvo, a função de custo e a operação de treinamento. Como estamos agindo como se a ação escolhida fosse a melhor ação possível, a probabilidade alvo deve ser 1,0 se a ação escolhida for a ação 0 (esquerda) e 0,0 se for a ação 1 (direita):"
      ],
      "metadata": {
        "id": "kvtfwBkeyzKV"
      }
    },
    {
      "cell_type": "code",
      "source": [
        "y = 1. - tf.to_float(action)"
      ],
      "metadata": {
        "id": "7EnS5mbYy124"
      },
      "execution_count": null,
      "outputs": []
    },
    {
      "cell_type": "markdown",
      "source": [
        "Agora que temos uma probabilidade alvo, podemos definir a função de custo (entropia cruzada) e calcular os gradientes:"
      ],
      "metadata": {
        "id": "WntyC35uzMcc"
      }
    },
    {
      "cell_type": "code",
      "source": [
        "learning_rate = 0.01"
      ],
      "metadata": {
        "id": "w7oEuRAxzOEW"
      },
      "execution_count": null,
      "outputs": []
    },
    {
      "cell_type": "code",
      "source": [
        "cross_entropy = tf.nn.sigmoid_cross_entropy_with_logits(\n",
        "    labels=y, logits=logits)\n",
        "optimizer = tf.train.AdamOptimizer(learning_rate)\n",
        "grads_and_vars = optimizer.compute_gradients(cross_entropy)"
      ],
      "metadata": {
        "id": "XOypOMJ7zb4U"
      },
      "execution_count": null,
      "outputs": []
    },
    {
      "cell_type": "code",
      "source": [
        "gradients = [grad for grad, variable in grads_and_vars]"
      ],
      "metadata": {
        "id": "6wznqlaQz6vl"
      },
      "execution_count": null,
      "outputs": []
    },
    {
      "cell_type": "code",
      "source": [
        "gradient_placeholders = []\n",
        "grads_and_vars_feed = []\n",
        "for grad, variable in grads_and_vars:\n",
        "  gradient_placeholder = tf.placeholder(tf.float32, shape=grad.get_shape())\n",
        "  gradient_placeholders.append(gradient_placeholder)\n",
        "  grads_and_vars_feed.append((gradient_placeholder, variable))"
      ],
      "metadata": {
        "id": "vCLVVm9D1U3M"
      },
      "execution_count": null,
      "outputs": []
    },
    {
      "cell_type": "code",
      "source": [
        "training_op = optimizer.apply_gradients(grads_and_vars_feed)"
      ],
      "metadata": {
        "id": "trdRoQYm1nuC"
      },
      "execution_count": null,
      "outputs": []
    },
    {
      "cell_type": "markdown",
      "source": [
        "Vamos dar um passo atrás e dar uma olhada na fase completa de construção:"
      ],
      "metadata": {
        "id": "Xaj3itga1vNd"
      }
    },
    {
      "cell_type": "code",
      "source": [
        "n_inputs = 4\n",
        "n_hidden = 4\n",
        "n_outputs = 1\n",
        "initializer = tf.contrib.layers.variance_scaling_initializer()"
      ],
      "metadata": {
        "id": "HiPBMcI-1wQk"
      },
      "execution_count": null,
      "outputs": []
    },
    {
      "cell_type": "code",
      "source": [
        "learning_rate = 0.01"
      ],
      "metadata": {
        "id": "S9nV-YRF2HP7"
      },
      "execution_count": null,
      "outputs": []
    },
    {
      "cell_type": "code",
      "source": [
        "X = tf.placeholder(tf.float32, shape=[None, n_inputs])\n",
        "hidden = fully_connected(X, n_hidden, activation_fn=tf.nn.elu,\n",
        "                         weights_initializer=initializer)\n",
        "logits = fully_connected(hidden, n_outputs, activation_fn=None,\n",
        "                         weights_initializer=initializer)\n",
        "outputs = tf.nn.sigmoid(logits)\n",
        "p_left_and_right = tf.concat(axis=1, values=[outputs, 1 - outputs])\n",
        "action = tf.multinomial(tf.log(p_left_and_right), num_samples=1)"
      ],
      "metadata": {
        "id": "pjZks4Fh2QFz"
      },
      "execution_count": null,
      "outputs": []
    },
    {
      "cell_type": "code",
      "source": [
        "y = 1. - tf.to_float(action)\n",
        "cross_entropy = tf.nn.sigmoid_cross_entropy_with_logits(\n",
        "    labels=y, logits=logits)\n",
        "optimizer = tf.train.AdamOptimizer(learning_rate)\n",
        "grads_and_vars = optimizer.compute_gradients(cross_entropy)\n",
        "gradients = [grad for grad, variable in grads_and_vars]\n",
        "gradient_placeholders = []\n",
        "grads_and_vars_feed = []\n",
        "for grad, variable in grads_and_vars:\n",
        "  gradient_placeholder = tf.placeholder(tf.float32, shape=grad.get_shape())\n",
        "  gradient_placeholders.append(gradient_placeholder)\n",
        "  grads_and_vars_feed.append((gradient_placeholder, variable))\n",
        "  training_op = optimizer.apply_gradients(grads_and_vars_feed)\n"
      ],
      "metadata": {
        "id": "3xdoF1r-2ikn"
      },
      "execution_count": null,
      "outputs": []
    },
    {
      "cell_type": "code",
      "source": [
        "init = tf.global_variables_initializer()\n",
        "saver = tf.train.Saver()"
      ],
      "metadata": {
        "id": "sldAjS7H2-bu"
      },
      "execution_count": null,
      "outputs": []
    },
    {
      "cell_type": "markdown",
      "source": [
        "Vamos para a fase de execução! Precisaremos de algumas funções para calcular o total de recompensas com desconto, dadas as recompensas brutas, e para normalizar os resultados em vários episódios:"
      ],
      "metadata": {
        "id": "QAZc_rhT3Zwk"
      }
    },
    {
      "cell_type": "code",
      "source": [
        "def discount_rewards(rewards, discount_rate):\n",
        "  discounted_rewards = np.empty(len(rewards))\n",
        "  cumulative_rewards = 0\n",
        "  for step in reversed(range(len(rewards))):\n",
        "    cumulative_rewards = rewards[step] + cumulative_rewards * discount_rate\n",
        "    discounted_rewards[step] = cumulative_rewards\n",
        "    return discounted_rewards"
      ],
      "metadata": {
        "id": "KReLXi1s3bWk"
      },
      "execution_count": null,
      "outputs": []
    },
    {
      "cell_type": "code",
      "source": [
        "def discount_and_normalize_rewards(all_rewards, discount_rate):\n",
        "  all_discounted_rewards = [discount_rewards(rewards)\n",
        "  for rewards in all_rewards]\n",
        "  flat_rewards = np.concatenate(all_discounted_rewards)\n",
        "  reward_mean = flat_rewards.mean()\n",
        "  reward_std = flat_rewards.std()\n",
        "  return [(discounted_rewards - reward_mean)/reward_std\n",
        "          for discounted_rewards in all_discounted_rewards]"
      ],
      "metadata": {
        "id": "bhjuUCmn3jNr"
      },
      "execution_count": null,
      "outputs": []
    },
    {
      "cell_type": "markdown",
      "source": [
        "Vamos verificar se isso funciona:"
      ],
      "metadata": {
        "id": "TYlFvYxb363v"
      }
    },
    {
      "cell_type": "code",
      "source": [
        "discount_rewards([10, 0, -50], discount_rate=0.8)"
      ],
      "metadata": {
        "id": "T04LFmaQ4KR_"
      },
      "execution_count": null,
      "outputs": []
    },
    {
      "cell_type": "code",
      "source": [
        "discount_and_normalize_rewards([[10, 0, -50], [10, 20]], discount_rate=0.8)"
      ],
      "metadata": {
        "id": "iR4m0X-R4QE6"
      },
      "execution_count": null,
      "outputs": []
    },
    {
      "cell_type": "markdown",
      "source": [
        "Agora temos tudo o que precisamos para treinar a política:"
      ],
      "metadata": {
        "id": "0i0iyxGY5OsX"
      }
    },
    {
      "cell_type": "code",
      "source": [
        "n_iterations = 250 # number of training iterations\n",
        "n_max_steps = 1000 # max steps per episode\n",
        "n_games_per_update = 10 # train the policy every 10 episodes\n",
        "save_iterations = 10 # save the model every 10 training iterations\n",
        "discount_rate = 0.95"
      ],
      "metadata": {
        "id": "kH73lpd-5QIE"
      },
      "execution_count": null,
      "outputs": []
    },
    {
      "cell_type": "code",
      "source": [
        "with tf.Session() as sess:\n",
        "  init.run()\n",
        "  for iteration in range(n_iterations):\n",
        "    all_rewards = [] # all sequences of raw rewards for each episode\n",
        "    all_gradients = [] # gradients saved at each step of each episode\n",
        "    for game in range(n_games_per_update):\n",
        "      current_rewards = [] # all raw rewards from the current episode\n",
        "      current_gradients = [] # all gradients from the current episode\n",
        "      obs = env.reset()\n",
        "      for step in range(n_max_steps):\n",
        "        action_val, gradients_val = sess.run(\n",
        "            [action, gradients],\n",
        "            feed_dict={X: obs.reshape(1, n_inputs)}) # one obs\n",
        "            obs, reward, done, info = env.step(action_val[0][0])\n",
        "            current_rewards.append(reward)\n",
        "            current_gradients.append(gradients_val)\n",
        "            if done:\n",
        "              break\n",
        "              all_rewards.append(current_rewards)\n",
        "              all_gradients.append(current_gradients)\n"
      ],
      "metadata": {
        "id": "9ehb2gjX52Lm"
      },
      "execution_count": null,
      "outputs": []
    },
    {
      "cell_type": "code",
      "source": [
        "# At this point we have run the policy for 10 episodes, and we are\n",
        "# ready for a policy update using the algorithm described earlier.\n",
        "all_rewards = discount_and_normalize_rewards(all_rewards)\n",
        "feed_dict = {}\n",
        "for var_index, grad_placeholder in enumerate(gradient_placeholders):\n",
        "  # multiply the gradients by the action scores, and compute the mean\n",
        "  mean_gradients = np.mean(\n",
        "      [reward * all_gradients[game_index][step][var_index]\n",
        "       for game_index, rewards in enumerate(all_rewards)\n",
        "       for step, reward in enumerate(rewards)],\n",
        "      axis=0)\n",
        "  feed_dict[grad_placeholder] = mean_gradients\n",
        "  sess.run(training_op, feed_dict=feed_dict)\n",
        "  if iteration % save_iterations == 0:\n",
        "   # saver.save(sess, \"./my_policy_net_pg.ckpt\")"
      ],
      "metadata": {
        "id": "VLSwAcxH65sL"
      },
      "execution_count": null,
      "outputs": []
    },
    {
      "cell_type": "markdown",
      "source": [
        "**Processos de decisão de Markov**"
      ],
      "metadata": {
        "id": "FRDfveGE37qe"
      }
    },
    {
      "cell_type": "markdown",
      "source": [
        "Vamos aplicar este algoritmo ao MDP representado na Figura 16-8. Primeiro, precisamos definir o MDP:"
      ],
      "metadata": {
        "id": "0LIVrc3pwf9x"
      }
    },
    {
      "cell_type": "code",
      "source": [
        "nan=np.nan # represents impossible actions\n",
        "T = np.array([ # shape=[s, a, s']\n",
        " [[0.7, 0.3, 0.0], [1.0, 0.0, 0.0], [0.8, 0.2, 0.0]],\n",
        "               [[0.0, 1.0, 0.0], [nan, nan, nan], [0.0, 0.0, 1.0]],\n",
        "                [[nan, nan, nan], [0.8, 0.1, 0.1], [nan, nan, nan]],\n",
        "               ])\n",
        "R = np.array([ # shape=[s, a, s']\n",
        " [[10., 0.0, 0.0], [0.0, 0.0, 0.0], [0.0, 0.0, 0.0]],\n",
        "  [[10., 0.0, 0.0], [nan, nan, nan], [0.0, 0.0, -50.]],\n",
        "   [[nan, nan, nan], [40., 0.0, 0.0], [nan, nan, nan]],\n",
        "               ])\n",
        "possible_actions = [[0, 1, 2], [0, 2], [1]]"
      ],
      "metadata": {
        "id": "W6Db5S9P-9hD"
      },
      "execution_count": null,
      "outputs": []
    },
    {
      "cell_type": "markdown",
      "source": [
        "Agora vamos executar o algoritmo Q-Value Iteration:"
      ],
      "metadata": {
        "id": "UrOhhhCI_eAu"
      }
    },
    {
      "cell_type": "code",
      "source": [
        "Q = np.full((3, 3), -np.inf) # -inf for impossible actions\n",
        "for state, actions in enumerate(possible_actions):\n",
        "  Q[state, actions] = 0.0 # Initial value = 0.0, for all possible actions\n",
        "\n",
        "learning_rate = 0.01\n",
        "discount_rate = 0.95\n",
        "n_iterations = 100"
      ],
      "metadata": {
        "id": "br9YB8uR_fBX"
      },
      "execution_count": null,
      "outputs": []
    },
    {
      "cell_type": "code",
      "source": [
        "for iteration in range(n_iterations):\n",
        "  Q_prev = Q.copy()\n",
        "  for s in range(3):\n",
        "    for a in possible_actions[s]:\n",
        "      Q[s, a] = np.sum([\n",
        "          T[s, a, sp] * (R[s, a, sp] + discount_rate * np.max(Q_prev[sp]))\n",
        "          for sp in range(3)\n",
        "          ])"
      ],
      "metadata": {
        "id": "5IC4ojOz__oe"
      },
      "execution_count": null,
      "outputs": []
    },
    {
      "cell_type": "markdown",
      "source": [
        "Os valores Q resultantes são assim:"
      ],
      "metadata": {
        "id": "JehtmdW2xeXZ"
      }
    },
    {
      "cell_type": "code",
      "source": [
        "Q"
      ],
      "metadata": {
        "id": "MoKLnFuQxfuW"
      },
      "execution_count": null,
      "outputs": []
    },
    {
      "cell_type": "code",
      "source": [
        " np.argmax(Q, axis=1) # optimal action for each state"
      ],
      "metadata": {
        "id": "9YkdQBVcxpqD"
      },
      "execution_count": null,
      "outputs": []
    },
    {
      "cell_type": "markdown",
      "source": [
        "**Aprendizagem por diferença temporal e Q-Learning**"
      ],
      "metadata": {
        "id": "gSmk-2FUxy8y"
      }
    },
    {
      "cell_type": "markdown",
      "source": [
        "Veja como o Q-Learning pode ser implementado:"
      ],
      "metadata": {
        "id": "RjmF8eHz0Rhd"
      }
    },
    {
      "cell_type": "code",
      "source": [
        "import numpy.random as rnd"
      ],
      "metadata": {
        "id": "GU2NhYUEBOCb"
      },
      "execution_count": null,
      "outputs": []
    },
    {
      "cell_type": "code",
      "source": [
        "learning_rate0 = 0.05\n",
        "learning_rate_decay = 0.1\n",
        "n_iterations = 20000"
      ],
      "metadata": {
        "id": "okAKnaQJBYTy"
      },
      "execution_count": null,
      "outputs": []
    },
    {
      "cell_type": "code",
      "source": [
        "s = 0 # start in state 0"
      ],
      "metadata": {
        "id": "-EBpedbHBaN8"
      },
      "execution_count": null,
      "outputs": []
    },
    {
      "cell_type": "code",
      "source": [
        "Q = np.full((3, 3), -np.inf) # -inf for impossible actions\n",
        "for state, actions in enumerate(possible_actions):\n",
        "  Q[state, actions] = 0.0 # Initial value = 0.0, for all possible actions"
      ],
      "metadata": {
        "id": "D31V5L32BwIs"
      },
      "execution_count": null,
      "outputs": []
    },
    {
      "cell_type": "code",
      "source": [
        "for iteration in range(n_iterations):\n",
        "  a = rnd.choice(possible_actions[s]) # choose an action (randomly)\n",
        "  sp = rnd.choice(range(3), p=T[s, a]) # pick next state using T[s, a]\n",
        "  reward = R[s, a, sp]\n",
        "  learning_rate = learning_rate0 / (1 + iteration * learning_rate_decay)\n",
        "  Q[s, a] = learning_rate * Q[s, a] + (1 - learning_rate) * (\n",
        "      reward + discount_rate * np.max(Q[sp])\n",
        "      )\n",
        "  s = sp # move to next state"
      ],
      "metadata": {
        "id": "g2t9W47YB37H"
      },
      "execution_count": null,
      "outputs": []
    },
    {
      "cell_type": "markdown",
      "source": [
        "**Políticas de Exploração**"
      ],
      "metadata": {
        "id": "x0jsP0d802Iy"
      }
    },
    {
      "cell_type": "markdown",
      "source": [
        "**Q-Learning Aproximado**"
      ],
      "metadata": {
        "id": "s-49nXcs04lC"
      }
    },
    {
      "cell_type": "markdown",
      "source": [
        "**Aprendendo a jogar a Sra. Pac-Man usando Deep Q-Learning**"
      ],
      "metadata": {
        "id": "R-QD9EhVP5bO"
      }
    },
    {
      "cell_type": "code",
      "source": [
        " brew install cmake boost boost-python sdl2 swig wget"
      ],
      "metadata": {
        "id": "FHpkhMBTPz2G"
      },
      "execution_count": null,
      "outputs": []
    },
    {
      "cell_type": "markdown",
      "source": [
        "No Ubuntu, digite o seguinte comando (substituindo python3 por python se você estiver usando Python 2):"
      ],
      "metadata": {
        "id": "pUMq_hk0QRVZ"
      }
    },
    {
      "cell_type": "code",
      "source": [
        "apt-get install -y python3-numpy python3-dev cmake zlib1g-dev libjpeg-dev\\\n",
        "xvfb libav-tools xorg-dev python3-opengl libboost-all-dev libsdl2-dev swig"
      ],
      "metadata": {
        "id": "NyOt4k6cQUbj"
      },
      "execution_count": null,
      "outputs": []
    },
    {
      "cell_type": "markdown",
      "source": [
        "Em seguida, instale os módulos extras do Python:"
      ],
      "metadata": {
        "id": "AnRcZdmmQpNY"
      }
    },
    {
      "cell_type": "code",
      "source": [
        "pip3 install --upgrade 'gym[all]'"
      ],
      "metadata": {
        "id": "v9mg0a3zQqSi"
      },
      "execution_count": null,
      "outputs": []
    },
    {
      "cell_type": "markdown",
      "source": [
        "Se tudo correr bem, você poderá criar um ambiente Ms. Pac-Man:"
      ],
      "metadata": {
        "id": "_9w0LHHKREcw"
      }
    },
    {
      "cell_type": "code",
      "source": [
        "env = gym.make(\"MsPacman-v0\")\n",
        "obs = env.reset()\n",
        "obs.shape # [height, width, channels]\n",
        "(210, 160, 3)\n",
        "env.action_space\n",
        "Discrete(9)"
      ],
      "metadata": {
        "id": "atjG-FcoRFrC"
      },
      "execution_count": null,
      "outputs": []
    },
    {
      "cell_type": "code",
      "source": [
        "mspacman_color = np.array([210, 164, 74]).mean()"
      ],
      "metadata": {
        "id": "ji1T4MXnRn0H"
      },
      "execution_count": null,
      "outputs": []
    },
    {
      "cell_type": "code",
      "source": [
        "def preprocess_observation(obs):\n",
        "  img = obs[1:176:2, ::2] # crop and downsize\n",
        "  img = img.mean(axis=2) # to greyscale\n",
        "  img[img==mspacman_color] = 0 # improve contrast\n",
        "  img = (img - 128) / 128 - 1 # normalize from -1. to 1.\n",
        "  return img.reshape(88, 80, 1)"
      ],
      "metadata": {
        "id": "3opr84KGRxnA"
      },
      "execution_count": null,
      "outputs": []
    },
    {
      "cell_type": "markdown",
      "source": [
        "O resultado do pré-processamento é mostrado na Figura 16-9 (direita)."
      ],
      "metadata": {
        "id": "IZ60itA7SDAl"
      }
    },
    {
      "cell_type": "code",
      "source": [
        "from tensorflow.contrib.layers import convolution2d, fully_connected"
      ],
      "metadata": {
        "id": "g8gCHaeGSEAf"
      },
      "execution_count": null,
      "outputs": []
    },
    {
      "cell_type": "code",
      "source": [
        "input_height = 88\n",
        "input_width = 80\n",
        "input_channels = 1\n",
        "conv_n_maps = [32, 64, 64]\n",
        "conv_kernel_sizes = [(8,8), (4,4), (3,3)]\n",
        "conv_strides = [4, 2, 1]\n",
        "conv_paddings = [\"SAME\"]*3\n",
        "conv_activation = [tf.nn.relu]*3\n",
        "n_hidden_in = 64 * 11 * 10 # conv3 has 64 maps of 11x10 each\n",
        "n_hidden = 512\n",
        "hidden_activation = tf.nn.relu\n",
        "n_outputs = env.action_space.n # 9 discrete actions are available\n",
        "initializer = tf.contrib.layers.variance_scaling_initializer()"
      ],
      "metadata": {
        "id": "Jp7Erp2zUBE0"
      },
      "execution_count": null,
      "outputs": []
    },
    {
      "cell_type": "code",
      "source": [
        "def q_network(X_state, scope):\n",
        "  prev_layer = X_state\n",
        "  conv_layers = []\n",
        "  with tf.variable_scope(scope) as scope:\n",
        "    for n_maps, kernel_size, stride, padding, activation in zip(\n",
        "        conv_n_maps, conv_kernel_sizes, conv_strides,\n",
        "        conv_paddings, conv_activation):\n",
        "      prev_layer = convolution2d(\n",
        "          prev_layer, num_outputs=n_maps, kernel_size=kernel_size,\n",
        "          stride=stride, padding=padding, activation_fn=activation,\n",
        "          weights_initializer=initializer)\n",
        "      conv_layers.append(prev_layer)\n",
        "      last_conv_layer_flat = tf.reshape(prev_layer, shape=[-1, n_hidden_in])\n",
        "      hidden = fully_connected(\n",
        "          last_conv_layer_flat, n_hidden, activation_fn=hidden_activation,\n",
        "          weights_initializer=initializer)\n",
        "      outputs = fully_connected(\n",
        "          hidden, n_outputs, activation_fn=None,\n",
        "          weights_initializer=initializer)\n",
        "      trainable_vars = tf.get_collection(tf.GraphKeys.TRAINABLE_VARIABLES,\n",
        "                                         scope=scope.name)\n",
        "      trainable_vars_by_name = {var.name[len(scope.name):]: var\n",
        "                                for var in trainable_vars}\n",
        "                                return outputs, trainable_vars_by_name"
      ],
      "metadata": {
        "id": "yGJ2oNeCVTmn"
      },
      "execution_count": null,
      "outputs": []
    },
    {
      "cell_type": "code",
      "source": [
        "trainable_vars_by_name"
      ],
      "metadata": {
        "id": "-fNo8AYeWQez"
      },
      "execution_count": null,
      "outputs": []
    },
    {
      "cell_type": "markdown",
      "source": [
        "Agora vamos criar o placeholder de entrada, os dois DQNs e a operação para copiar o DQN crítico para o DQN do ator:"
      ],
      "metadata": {
        "id": "FTFI4cGnXLXT"
      }
    },
    {
      "cell_type": "code",
      "source": [
        "X_state = tf.placeholder(tf.float32, shape=[None, input_height, input_width,\n",
        "                                            input_channels])\n",
        "actor_q_values, actor_vars = q_network(X_state, scope=\"q_networks/actor\")\n",
        "critic_q_values, critic_vars = q_network(X_state, scope=\"q_networks/critic\")"
      ],
      "metadata": {
        "id": "bc_U-T90XMcH"
      },
      "execution_count": null,
      "outputs": []
    },
    {
      "cell_type": "code",
      "source": [
        "copy_ops = [actor_var.assign(critic_vars[var_name])\n",
        "for var_name, actor_var in actor_vars.items()]\n",
        "copy_critic_to_actor = tf.group(*copy_ops)"
      ],
      "metadata": {
        "id": "WXGabpv-XcJJ"
      },
      "execution_count": null,
      "outputs": []
    },
    {
      "cell_type": "code",
      "source": [],
      "metadata": {
        "id": "s82QDFpPX0IX"
      },
      "execution_count": null,
      "outputs": []
    },
    {
      "cell_type": "code",
      "source": [
        "X_action = tf.placeholder(tf.int32, shape=[None])\n",
        "q_value = tf.reduce_sum(critic_q_values * tf.one_hot(X_action, n_outputs),\n",
        "                        axis=1, keep_dims=True)"
      ],
      "metadata": {
        "id": "TuVn-WooX1RM"
      },
      "execution_count": null,
      "outputs": []
    },
    {
      "cell_type": "markdown",
      "source": [
        "A seguir, vamos adicionar as operações de treinamento, assumindo que os Q-Values alvo serão alimentados por meio de um espaço reservado. Também criamos uma variável não treinável chamada global_step. A operação minimize() do otimizador cuidará de incrementá-lo. Além disso, criamos a operação init usual e um Saver."
      ],
      "metadata": {
        "id": "Jy4KfQ4OYBxT"
      }
    },
    {
      "cell_type": "code",
      "source": [
        "y = tf.placeholder(tf.float32, shape=[None, 1])\n",
        "cost = tf.reduce_mean(tf.square(y - q_value))\n",
        "global_step = tf.Variable(0, trainable=False, name='global_step')\n",
        "optimizer = tf.train.AdamOptimizer(learning_rate)\n",
        "training_op = optimizer.minimize(cost, global_step=global_step)"
      ],
      "metadata": {
        "id": "DBsJ_NiHYDAR"
      },
      "execution_count": null,
      "outputs": []
    },
    {
      "cell_type": "code",
      "source": [
        "init = tf.global_variables_initializer()\n",
        "saver = tf.train.Saver()"
      ],
      "metadata": {
        "id": "88iZxeBCYUEg"
      },
      "execution_count": null,
      "outputs": []
    },
    {
      "cell_type": "code",
      "source": [
        "from collections import deque"
      ],
      "metadata": {
        "id": "F0WaCV54ZcGU"
      },
      "execution_count": null,
      "outputs": []
    },
    {
      "cell_type": "code",
      "source": [
        "replay_memory_size = 10000\n",
        "replay_memory = deque([], maxlen=replay_memory_size)"
      ],
      "metadata": {
        "id": "YQxKEETSZjJb"
      },
      "execution_count": null,
      "outputs": []
    },
    {
      "cell_type": "code",
      "source": [
        "def sample_memories(batch_size):\n",
        "  indices = rnd.permutation(len(replay_memory))[:batch_size]\n",
        "  cols = [[], [], [], [], []] # state, action, reward, next_state, continue\n",
        "  for idx in indices:\n",
        "    memory = replay_memory[idx]\n",
        "    for col, value in zip(cols, memory):\n",
        "      col.append(value)\n",
        "      cols = [np.array(col) for col in cols]\n",
        "      return (cols[0], cols[1], cols[2].reshape(-1, 1), cols[3],\n",
        "              cols[4].reshape(-1, 1))"
      ],
      "metadata": {
        "id": "biYqheXBZqRR"
      },
      "execution_count": null,
      "outputs": []
    },
    {
      "cell_type": "markdown",
      "source": [
        "A seguir, precisaremos do ator para explorar o jogo. Usaremos a política ε-gulosa e diminuiremos gradualmente ε de 1,0 para 0,05, em 50.000 etapas de treinamento:"
      ],
      "metadata": {
        "id": "Zw19UAXKaIHk"
      }
    },
    {
      "cell_type": "code",
      "source": [
        "eps_min = 0.05\n",
        "eps_max = 1.0\n",
        "eps_decay_steps = 50000\n",
        "\n"
      ],
      "metadata": {
        "id": "jOVLB2IxaJU5"
      },
      "execution_count": null,
      "outputs": []
    },
    {
      "cell_type": "code",
      "source": [
        "def epsilon_greedy(q_values, step):\n",
        "  epsilon = max(eps_min, eps_max - (eps_max-eps_min) * step/eps_decay_steps)\n",
        "  if rnd.rand() < epsilon:\n",
        "    return rnd.randint(n_outputs) # random action\n",
        "    else:\n",
        "      return np.argmax(q_values) # optimal action"
      ],
      "metadata": {
        "id": "_amfhENvahEQ"
      },
      "execution_count": null,
      "outputs": []
    },
    {
      "cell_type": "code",
      "source": [
        "n_steps = 100000 # total number of training steps\n",
        "training_start = 1000 # start training after 1,000 game iterations\n",
        "training_interval = 3 # run a training step every 3 game iterations\n",
        "save_steps = 50 # save the model every 50 training steps\n",
        "copy_steps = 25 # copy the critic to the actor every 25 training steps\n",
        "discount_rate = 0.95\n",
        "skip_start = 90 # skip the start of every game (it's just waiting time)\n",
        "batch_size = 50\n",
        "iteration = 0 # game iterations\n",
        "checkpoint_path = \"./my_dqn.ckpt\"\n",
        "done = True # env needs to be reset"
      ],
      "metadata": {
        "id": "5OB83zlxbSsF"
      },
      "execution_count": null,
      "outputs": []
    },
    {
      "cell_type": "markdown",
      "source": [
        "A seguir, vamos abrir a sessão e executar o ciclo de treinamento principal:"
      ],
      "metadata": {
        "id": "lHUSpo1vbbeh"
      }
    },
    {
      "cell_type": "code",
      "source": [
        "with tf.Session() as sess:\n",
        "  if os.path.isfile(checkpoint_path):\n",
        "    saver.restore(sess, checkpoint_path)\n",
        "    else:\n",
        "      init.run()\n",
        "      while True:\n",
        "        step = global_step.eval()\n",
        "        if step >= n_steps:\n",
        "          break\n",
        "          iteration += 1\n",
        "          if done: # game over, start again\n",
        "          obs = env.reset()\n",
        "          for skip in range(skip_start): # skip the start of each game\n",
        "          obs, reward, done, info = env.step(0)\n",
        "          state = preprocess_observation(obs)"
      ],
      "metadata": {
        "id": "LXLnjJaNbciU"
      },
      "execution_count": null,
      "outputs": []
    },
    {
      "cell_type": "code",
      "source": [
        "# Actor evaluates what to do\n",
        "q_values = actor_q_values.eval(feed_dict={X_state: [state]})\n",
        "action = epsilon_greedy(q_values, step)"
      ],
      "metadata": {
        "id": "EioCoWrAb14s"
      },
      "execution_count": null,
      "outputs": []
    },
    {
      "cell_type": "code",
      "source": [
        "# Actor plays\n",
        "obs, reward, done, info = env.step(action)\n",
        "next_state = preprocess_observation(obs)"
      ],
      "metadata": {
        "id": "yM9wZPc-b-s6"
      },
      "execution_count": null,
      "outputs": []
    },
    {
      "cell_type": "code",
      "source": [
        "# Let's memorize what just happened\n",
        "replay_memory.append((state, action, reward, next_state, 1.0 - done))\n",
        "state = next_state"
      ],
      "metadata": {
        "id": "2HqqzYWmcMKx"
      },
      "execution_count": null,
      "outputs": []
    },
    {
      "cell_type": "code",
      "source": [
        "if iteration < training_start or iteration % training_interval != 0:\n",
        "  continue"
      ],
      "metadata": {
        "id": "7U6E3gKecWJd"
      },
      "execution_count": null,
      "outputs": []
    },
    {
      "cell_type": "code",
      "source": [
        "# Critic learns\n",
        "X_state_val, X_action_val, rewards, X_next_state_val, continues = (\n",
        "    sample_memories(batch_size))\n",
        "next_q_values = actor_q_values.eval(\n",
        "    feed_dict={X_state: X_next_state_val})\n",
        "max_next_q_values = np.max(next_q_values, axis=1, keepdims=True)\n",
        "y_val = rewards + continues * discount_rate * max_next_q_values\n",
        "training_op.run(feed_dict={X_state: X_state_val,\n",
        "                           X_action: X_action_val, y: y_val})"
      ],
      "metadata": {
        "id": "nszU9Sm2cmpE"
      },
      "execution_count": null,
      "outputs": []
    },
    {
      "cell_type": "code",
      "source": [
        "# Regularly copy critic to actor\n",
        "if step % copy_steps == 0:\n",
        "  copy_critic_to_actor.run()"
      ],
      "metadata": {
        "id": "9RnxlbC9czAg"
      },
      "execution_count": null,
      "outputs": []
    },
    {
      "cell_type": "code",
      "source": [
        "# And save regularly\n",
        "if step % save_steps == 0:\n",
        "  saver.save(sess, checkpoint_path)"
      ],
      "metadata": {
        "id": "zrORBYJnc7Op"
      },
      "execution_count": null,
      "outputs": []
    }
  ]
}